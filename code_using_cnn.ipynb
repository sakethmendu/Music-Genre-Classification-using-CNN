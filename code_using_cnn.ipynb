{
 "cells": [
  {
   "cell_type": "code",
   "execution_count": 2,
   "metadata": {
    "colab": {
     "base_uri": "https://localhost:8080/",
     "height": 34
    },
    "colab_type": "code",
    "executionInfo": {
     "elapsed": 6975,
     "status": "ok",
     "timestamp": 1564495732647,
     "user": {
      "displayName": "Mendu saketh Reddy",
      "photoUrl": "https://lh4.googleusercontent.com/-GhLwf9d8c9s/AAAAAAAAAAI/AAAAAAAAAFU/ZbBiZ9NGBuw/s64/photo.jpg",
      "userId": "17144438371393032664"
     },
     "user_tz": -330
    },
    "id": "CmJPLcBsbK1I",
    "outputId": "98af3cec-aae8-42de-fb66-41cad19d54ac"
   },
   "outputs": [
    {
     "data": {
      "text/plain": [
       "'/device:GPU:0'"
      ]
     },
     "execution_count": 2,
     "metadata": {
      "tags": []
     },
     "output_type": "execute_result"
    }
   ],
   "source": [
    "import tensorflow as tf\n",
    "tf.test.gpu_device_name()"
   ]
  },
  {
   "cell_type": "code",
   "execution_count": 3,
   "metadata": {
    "colab": {
     "base_uri": "https://localhost:8080/",
     "height": 34
    },
    "colab_type": "code",
    "executionInfo": {
     "elapsed": 6530,
     "status": "ok",
     "timestamp": 1564495732650,
     "user": {
      "displayName": "Mendu saketh Reddy",
      "photoUrl": "https://lh4.googleusercontent.com/-GhLwf9d8c9s/AAAAAAAAAAI/AAAAAAAAAFU/ZbBiZ9NGBuw/s64/photo.jpg",
      "userId": "17144438371393032664"
     },
     "user_tz": -330
    },
    "id": "a1r0WChCbUzM",
    "outputId": "64d3a4b3-e521-479a-fe2d-eada6347da0b"
   },
   "outputs": [
    {
     "name": "stderr",
     "output_type": "stream",
     "text": [
      "Using TensorFlow backend.\n"
     ]
    }
   ],
   "source": [
    "import pandas as pd\n",
    "import numpy as np\n",
    "import os\n",
    "import keras\n",
    "import matplotlib.pyplot as plt\n",
    "from keras.layers import Dense,GlobalAveragePooling2D,Dropout\n",
    "from keras.applications import MobileNet\n",
    "from keras.preprocessing import image\n",
    "from keras.applications.mobilenet import preprocess_input\n",
    "from keras.preprocessing.image import ImageDataGenerator\n",
    "from keras.models import Model\n",
    "from keras.optimizers import Adam"
   ]
  },
  {
   "cell_type": "code",
   "execution_count": 0,
   "metadata": {
    "colab": {},
    "colab_type": "code",
    "id": "IqibE2aSQUj-"
   },
   "outputs": [],
   "source": [
    "!pip install pydrive"
   ]
  },
  {
   "cell_type": "code",
   "execution_count": 0,
   "metadata": {
    "colab": {},
    "colab_type": "code",
    "id": "_ZuSVV32bmsB"
   },
   "outputs": [],
   "source": [
    "from pydrive.auth import GoogleAuth\n",
    "from pydrive.drive import GoogleDrive\n",
    "from google.colab import auth\n",
    "from oauth2client.client import GoogleCredentials"
   ]
  },
  {
   "cell_type": "code",
   "execution_count": 0,
   "metadata": {
    "colab": {},
    "colab_type": "code",
    "id": "nHYv6ODebpqL"
   },
   "outputs": [],
   "source": [
    "auth.authenticate_user()\n",
    "gauth = GoogleAuth()\n",
    "gauth.credentials = GoogleCredentials.get_application_default()\n",
    "drive = GoogleDrive(gauth)"
   ]
  },
  {
   "cell_type": "code",
   "execution_count": 0,
   "metadata": {
    "colab": {},
    "colab_type": "code",
    "id": "2_2-PngibaM7"
   },
   "outputs": [],
   "source": [
    "file_list = drive.ListFile({'q': \"'root' in parents and trashed=false\"}).GetList()\n",
    "for file1 in file_list:\n",
    "  print('title: %s, id: %s' % (file1['title'], file1['id']))"
   ]
  },
  {
   "cell_type": "code",
   "execution_count": 0,
   "metadata": {
    "colab": {},
    "colab_type": "code",
    "id": "BWh5rg1Hbf95"
   },
   "outputs": [],
   "source": [
    "downloaded = drive.CreateFile({'id': '*Paste your ID*'})\n",
    "downloaded.GetContentFile('image_train_test.zip')"
   ]
  },
  {
   "cell_type": "code",
   "execution_count": 0,
   "metadata": {
    "colab": {},
    "colab_type": "code",
    "id": "PNgbsApub4xr"
   },
   "outputs": [],
   "source": [
    "!unzip image_train_test.zip"
   ]
  },
  {
   "cell_type": "code",
   "execution_count": 0,
   "metadata": {
    "colab": {},
    "colab_type": "code",
    "id": "e22GNT2Fb8kE"
   },
   "outputs": [],
   "source": [
    "import os"
   ]
  },
  {
   "cell_type": "code",
   "execution_count": 1,
   "metadata": {
    "colab": {
     "base_uri": "https://localhost:8080/",
     "height": 119
    },
    "colab_type": "code",
    "executionInfo": {
     "elapsed": 2063,
     "status": "ok",
     "timestamp": 1564495758915,
     "user": {
      "displayName": "Mendu saketh Reddy",
      "photoUrl": "https://lh4.googleusercontent.com/-GhLwf9d8c9s/AAAAAAAAAAI/AAAAAAAAAFU/ZbBiZ9NGBuw/s64/photo.jpg",
      "userId": "17144438371393032664"
     },
     "user_tz": -330
    },
    "id": "0iY41HzQcGIr",
    "outputId": "71fd27d4-210f-4084-bfb1-739839510e22"
   },
   "outputs": [],
   "source": [
    "os.listdir()"
   ]
  },
  {
   "cell_type": "code",
   "execution_count": 0,
   "metadata": {
    "colab": {},
    "colab_type": "code",
    "id": "uYPZbhxHDOEU"
   },
   "outputs": [],
   "source": [
    "from keras.models import Sequential\n",
    "from keras.layers import Dense\n",
    "from keras.layers import Dropout\n",
    "from keras.layers import Flatten\n",
    "from keras.layers.convolutional import Conv2D\n",
    "from keras.layers.convolutional import MaxPooling2D"
   ]
  },
  {
   "cell_type": "code",
   "execution_count": 0,
   "metadata": {
    "colab": {},
    "colab_type": "code",
    "id": "6mgfTvC1kjlq"
   },
   "outputs": [],
   "source": [
    "# import BatchNormalization\n",
    "from keras.layers.normalization import BatchNormalization"
   ]
  },
  {
   "cell_type": "code",
   "execution_count": 72,
   "metadata": {
    "colab": {
     "base_uri": "https://localhost:8080/",
     "height": 561
    },
    "colab_type": "code",
    "executionInfo": {
     "elapsed": 1232,
     "status": "ok",
     "timestamp": 1564506316814,
     "user": {
      "displayName": "Mendu saketh Reddy",
      "photoUrl": "https://lh4.googleusercontent.com/-GhLwf9d8c9s/AAAAAAAAAAI/AAAAAAAAAFU/ZbBiZ9NGBuw/s64/photo.jpg",
      "userId": "17144438371393032664"
     },
     "user_tz": -330
    },
    "id": "FfgrtnyqCt6j",
    "outputId": "dad4b461-3a24-4364-cc25-fd97019b2ca5"
   },
   "outputs": [
    {
     "name": "stdout",
     "output_type": "stream",
     "text": [
      "_________________________________________________________________\n",
      "Layer (type)                 Output Shape              Param #   \n",
      "=================================================================\n",
      "conv2d_21 (Conv2D)           (None, 33, 49, 32)        416       \n",
      "_________________________________________________________________\n",
      "max_pooling2d_13 (MaxPooling (None, 16, 24, 32)        0         \n",
      "_________________________________________________________________\n",
      "conv2d_22 (Conv2D)           (None, 15, 23, 64)        8256      \n",
      "_________________________________________________________________\n",
      "max_pooling2d_14 (MaxPooling (None, 7, 11, 64)         0         \n",
      "_________________________________________________________________\n",
      "flatten_11 (Flatten)         (None, 4928)              0         \n",
      "_________________________________________________________________\n",
      "dense_28 (Dense)             (None, 128)               630912    \n",
      "_________________________________________________________________\n",
      "batch_normalization_11 (Batc (None, 128)               512       \n",
      "_________________________________________________________________\n",
      "dropout_26 (Dropout)         (None, 128)               0         \n",
      "_________________________________________________________________\n",
      "dense_29 (Dense)             (None, 75)                9675      \n",
      "_________________________________________________________________\n",
      "batch_normalization_12 (Batc (None, 75)                300       \n",
      "_________________________________________________________________\n",
      "dropout_27 (Dropout)         (None, 75)                0         \n",
      "_________________________________________________________________\n",
      "dense_30 (Dense)             (None, 10)                760       \n",
      "=================================================================\n",
      "Total params: 650,831\n",
      "Trainable params: 650,425\n",
      "Non-trainable params: 406\n",
      "_________________________________________________________________\n",
      "None\n"
     ]
    }
   ],
   "source": [
    "model = Sequential()\n",
    "model.add(Conv2D(32, kernel_size=(2, 2), activation='relu', input_shape=( 34, 50, 3)))\n",
    "model.add(MaxPooling2D(pool_size=(2, 2)))\n",
    "model.add(Conv2D(64, kernel_size=(2, 2), activation='relu'))\n",
    "model.add(MaxPooling2D(pool_size=(2, 2)))\n",
    "model.add(Flatten())\n",
    "model.add(Dense(128, activation='relu'))\n",
    "model.add(BatchNormalization())\n",
    "model.add(Dropout(0.2))\n",
    "model.add(Dense(75, activation='relu'))\n",
    "model.add(BatchNormalization())\n",
    "model.add(Dropout(0.2))\n",
    "model.add(Dense(10, activation='softmax'))\n",
    "model.compile(optimizer='rmsprop',\n",
    "              loss='categorical_crossentropy',\n",
    "              metrics=['accuracy'])\n",
    "print(model.summary())"
   ]
  },
  {
   "cell_type": "code",
   "execution_count": 42,
   "metadata": {
    "colab": {
     "base_uri": "https://localhost:8080/",
     "height": 34
    },
    "colab_type": "code",
    "executionInfo": {
     "elapsed": 1149,
     "status": "ok",
     "timestamp": 1564498812289,
     "user": {
      "displayName": "Mendu saketh Reddy",
      "photoUrl": "https://lh4.googleusercontent.com/-GhLwf9d8c9s/AAAAAAAAAAI/AAAAAAAAAFU/ZbBiZ9NGBuw/s64/photo.jpg",
      "userId": "17144438371393032664"
     },
     "user_tz": -330
    },
    "id": "nV5ROtf4daZy",
    "outputId": "da95e739-73b1-4ce4-968a-fa39f1d5b034"
   },
   "outputs": [
    {
     "data": {
      "text/plain": [
       "['train', 'test']"
      ]
     },
     "execution_count": 42,
     "metadata": {
      "tags": []
     },
     "output_type": "execute_result"
    }
   ],
   "source": [
    "os.listdir('image_train_test')"
   ]
  },
  {
   "cell_type": "code",
   "execution_count": 73,
   "metadata": {
    "colab": {
     "base_uri": "https://localhost:8080/",
     "height": 51
    },
    "colab_type": "code",
    "executionInfo": {
     "elapsed": 1165,
     "status": "ok",
     "timestamp": 1564506349199,
     "user": {
      "displayName": "Mendu saketh Reddy",
      "photoUrl": "https://lh4.googleusercontent.com/-GhLwf9d8c9s/AAAAAAAAAAI/AAAAAAAAAFU/ZbBiZ9NGBuw/s64/photo.jpg",
      "userId": "17144438371393032664"
     },
     "user_tz": -330
    },
    "id": "XOOOrYjhdFD1",
    "outputId": "a780260e-898d-48ea-83a8-2b8354401fd4"
   },
   "outputs": [
    {
     "name": "stdout",
     "output_type": "stream",
     "text": [
      "Found 900 images belonging to 10 classes.\n",
      "Found 100 images belonging to 10 classes.\n"
     ]
    }
   ],
   "source": [
    "WIDTH = 50\n",
    "HEIGHT = 34\n",
    "BATCH_SIZE = 32\n",
    "TRAIN_DIR=r'image_train_test/train'\n",
    "TEST_DIR=r'image_train_test/test'\n",
    "# data prep\n",
    "train_datagen = ImageDataGenerator(\n",
    "    preprocessing_function=preprocess_input,\n",
    "    rotation_range=0,\n",
    "    width_shift_range=0.2,\n",
    "    height_shift_range=0.2,\n",
    "    shear_range=0.2,\n",
    "    zoom_range=0.2,\n",
    "    horizontal_flip=True,\n",
    "    fill_mode='nearest')\n",
    "\n",
    "validation_datagen = ImageDataGenerator(\n",
    "    preprocessing_function=preprocess_input,\n",
    "    rotation_range=0,\n",
    "    width_shift_range=0.2,\n",
    "    height_shift_range=0.2,\n",
    "    shear_range=0.2,\n",
    "    zoom_range=0.2,\n",
    "    horizontal_flip=True,\n",
    "    fill_mode='nearest')\n",
    "\n",
    "train_generator = train_datagen.flow_from_directory(\n",
    "    TRAIN_DIR,\n",
    "    target_size=(HEIGHT, WIDTH),\n",
    "        batch_size=BATCH_SIZE,\n",
    "        class_mode='categorical')\n",
    "    \n",
    "validation_generator = validation_datagen.flow_from_directory(\n",
    "    TEST_DIR,\n",
    "    target_size=(HEIGHT, WIDTH),\n",
    "    batch_size=BATCH_SIZE,\n",
    "    class_mode='categorical')"
   ]
  },
  {
   "cell_type": "code",
   "execution_count": 74,
   "metadata": {
    "colab": {
     "base_uri": "https://localhost:8080/",
     "height": 204
    },
    "colab_type": "code",
    "executionInfo": {
     "elapsed": 764571,
     "status": "ok",
     "timestamp": 1564507122198,
     "user": {
      "displayName": "Mendu saketh Reddy",
      "photoUrl": "https://lh4.googleusercontent.com/-GhLwf9d8c9s/AAAAAAAAAAI/AAAAAAAAAFU/ZbBiZ9NGBuw/s64/photo.jpg",
      "userId": "17144438371393032664"
     },
     "user_tz": -330
    },
    "id": "MC-ajSJ3eRJL",
    "outputId": "2c08bc5e-aa93-4d0f-c887-9b39bce7c632"
   },
   "outputs": [
    {
     "name": "stdout",
     "output_type": "stream",
     "text": [
      "Epoch 1/5\n",
      "300/300 [==============================] - 156s 521ms/step - loss: 2.1491 - acc: 0.2600 - val_loss: 1.9657 - val_acc: 0.2880\n",
      "Epoch 2/5\n",
      "300/300 [==============================] - 151s 505ms/step - loss: 1.8164 - acc: 0.3404 - val_loss: 2.3211 - val_acc: 0.3040\n",
      "Epoch 3/5\n",
      "300/300 [==============================] - 151s 504ms/step - loss: 1.7174 - acc: 0.3618 - val_loss: 2.1537 - val_acc: 0.2240\n",
      "Epoch 4/5\n",
      "300/300 [==============================] - 152s 506ms/step - loss: 1.6515 - acc: 0.3846 - val_loss: 1.8950 - val_acc: 0.3680\n",
      "Epoch 5/5\n",
      "300/300 [==============================] - 151s 504ms/step - loss: 1.6095 - acc: 0.4038 - val_loss: 1.6877 - val_acc: 0.3660\n"
     ]
    },
    {
     "data": {
      "text/plain": [
       "<keras.callbacks.History at 0x7fe03c295898>"
      ]
     },
     "execution_count": 74,
     "metadata": {
      "tags": []
     },
     "output_type": "execute_result"
    }
   ],
   "source": [
    "EPOCHS = 5\n",
    "BATCH_SIZE = 10\n",
    "STEPS_PER_EPOCH = 300\n",
    "VALIDATION_STEPS=20\n",
    "model.fit_generator(\n",
    "    train_generator,\n",
    "    epochs=EPOCHS,\n",
    "    steps_per_epoch=STEPS_PER_EPOCH,\n",
    "    validation_data=validation_generator,\n",
    "    validation_steps=VALIDATION_STEPS)"
   ]
  },
  {
   "cell_type": "code",
   "execution_count": 0,
   "metadata": {
    "colab": {},
    "colab_type": "code",
    "id": "Zu6Hd5liek85"
   },
   "outputs": [],
   "source": [
    "from tensorflow.python.keras.preprocessing import image"
   ]
  },
  {
   "cell_type": "code",
   "execution_count": 0,
   "metadata": {
    "colab": {},
    "colab_type": "code",
    "id": "6klwTTRTkGIy"
   },
   "outputs": [],
   "source": [
    "img = image.load_img(r'image_train_test/test/rock/rock00021.png', target_size=(34,50))"
   ]
  },
  {
   "cell_type": "code",
   "execution_count": 0,
   "metadata": {
    "colab": {},
    "colab_type": "code",
    "id": "Ex_5EMnRkWid"
   },
   "outputs": [],
   "source": [
    "x = image.img_to_array(img)\n",
    "x = preprocess_input(x)\n",
    "x = np.expand_dims(x, axis=0)\n",
    "pred = model.predict(x)[0]"
   ]
  },
  {
   "cell_type": "code",
   "execution_count": 96,
   "metadata": {
    "colab": {
     "base_uri": "https://localhost:8080/",
     "height": 68
    },
    "colab_type": "code",
    "executionInfo": {
     "elapsed": 1132,
     "status": "ok",
     "timestamp": 1564507466567,
     "user": {
      "displayName": "Mendu saketh Reddy",
      "photoUrl": "https://lh4.googleusercontent.com/-GhLwf9d8c9s/AAAAAAAAAAI/AAAAAAAAAFU/ZbBiZ9NGBuw/s64/photo.jpg",
      "userId": "17144438371393032664"
     },
     "user_tz": -330
    },
    "id": "JRxi-id-kgB3",
    "outputId": "d5697bfd-3f6f-49c4-8a16-be774559ce78"
   },
   "outputs": [
    {
     "data": {
      "text/plain": [
       "array([0.09090052, 0.00521583, 0.04997608, 0.09830249, 0.06428668,\n",
       "       0.00474146, 0.31325158, 0.00796925, 0.01440568, 0.35095045],\n",
       "      dtype=float32)"
      ]
     },
     "execution_count": 96,
     "metadata": {
      "tags": []
     },
     "output_type": "execute_result"
    }
   ],
   "source": [
    "pred"
   ]
  },
  {
   "cell_type": "markdown",
   "metadata": {
    "colab_type": "text",
    "id": "Bbiy-Gqu5-Pd"
   },
   "source": [
    "0-blues 1-classical 2-country 3-disco 4-hiphop 5-jazz 6-metal 7-pop 8-reggae 9-rock"
   ]
  },
  {
   "cell_type": "code",
   "execution_count": 100,
   "metadata": {
    "colab": {
     "base_uri": "https://localhost:8080/",
     "height": 34
    },
    "colab_type": "code",
    "executionInfo": {
     "elapsed": 1623,
     "status": "ok",
     "timestamp": 1564507549322,
     "user": {
      "displayName": "Mendu saketh Reddy",
      "photoUrl": "https://lh4.googleusercontent.com/-GhLwf9d8c9s/AAAAAAAAAAI/AAAAAAAAAFU/ZbBiZ9NGBuw/s64/photo.jpg",
      "userId": "17144438371393032664"
     },
     "user_tz": -330
    },
    "id": "NjbdPvPBkhwa",
    "outputId": "493e91c9-d7ae-43dc-a95d-9d4fd6bbec46"
   },
   "outputs": [
    {
     "data": {
      "text/plain": [
       "9"
      ]
     },
     "execution_count": 100,
     "metadata": {
      "tags": []
     },
     "output_type": "execute_result"
    }
   ],
   "source": [
    "np.argmax(pred)"
   ]
  }
 ],
 "metadata": {
  "accelerator": "GPU",
  "colab": {
   "collapsed_sections": [],
   "name": "audio_using_cnn.ipynb",
   "provenance": [],
   "version": "0.3.2"
  },
  "kernelspec": {
   "display_name": "Python 3",
   "language": "python",
   "name": "python3"
  },
  "language_info": {
   "codemirror_mode": {
    "name": "ipython",
    "version": 3
   },
   "file_extension": ".py",
   "mimetype": "text/x-python",
   "name": "python",
   "nbconvert_exporter": "python",
   "pygments_lexer": "ipython3",
   "version": "3.7.3"
  }
 },
 "nbformat": 4,
 "nbformat_minor": 1
}
